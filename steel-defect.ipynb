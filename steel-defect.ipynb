{
 "cells": [
  {
   "cell_type": "code",
   "execution_count": 1,
   "metadata": {},
   "outputs": [],
   "source": [
    "from glob import glob\n",
    "import numpy as np\n",
    "import rasterio as rio\n",
    "import os\n",
    "import pandas as pd"
   ]
  },
  {
   "cell_type": "markdown",
   "metadata": {},
   "source": [
    "# Importing dataset"
   ]
  },
  {
   "cell_type": "code",
   "execution_count": 2,
   "metadata": {},
   "outputs": [],
   "source": [
    "root = '.\\\\steel defect'"
   ]
  },
  {
   "cell_type": "code",
   "execution_count": 3,
   "metadata": {},
   "outputs": [],
   "source": [
    "images = glob(os.path.join(root, \"images\", '*.jpg'))"
   ]
  },
  {
   "cell_type": "code",
   "execution_count": 4,
   "metadata": {},
   "outputs": [],
   "source": [
    "dataset = pd.read_csv('steel defect\\\\train.csv')\n"
   ]
  },
  {
   "cell_type": "code",
   "execution_count": 5,
   "metadata": {
    "scrolled": true
   },
   "outputs": [
    {
     "name": "stderr",
     "output_type": "stream",
     "text": [
      "C:\\Users\\Mihir\\anaconda3\\lib\\site-packages\\rasterio\\__init__.py:228: NotGeoreferencedWarning: Dataset has no geotransform, gcps, or rpcs. The identity matrix be returned.\n",
      "  s = DatasetReader(path, driver=driver, sharing=sharing, **kwargs)\n"
     ]
    }
   ],
   "source": [
    "X = []\n",
    "y = []\n",
    "for index in range(dataset.shape[0]):\n",
    "    for i in images:\n",
    "        image_name = os.path.basename(i)\n",
    "        if image_name!=dataset['ImageId'].iloc[index]:\n",
    "            continue\n",
    "        with rio.open(i, 'r') as f:\n",
    "            X.append(f.read(1))\n",
    "            y.append(int(dataset['ClassId'].iloc[index]))\n",
    "        break  "
   ]
  },
  {
   "cell_type": "markdown",
   "metadata": {},
   "source": [
    "# stack data"
   ]
  },
  {
   "cell_type": "code",
   "execution_count": 6,
   "metadata": {},
   "outputs": [],
   "source": [
    "X = np.stack(X)\n",
    "y = np.array(y)"
   ]
  },
  {
   "cell_type": "markdown",
   "metadata": {},
   "source": [
    "# Flatten image array"
   ]
  },
  {
   "cell_type": "code",
   "execution_count": 7,
   "metadata": {},
   "outputs": [],
   "source": [
    "n_samples = X.shape[0]\n",
    "X_data = X.reshape((n_samples, -1))"
   ]
  },
  {
   "cell_type": "markdown",
   "metadata": {},
   "source": [
    "# Data normalization"
   ]
  },
  {
   "cell_type": "code",
   "execution_count": 8,
   "metadata": {},
   "outputs": [],
   "source": [
    "from sklearn.preprocessing import StandardScaler\n",
    "sc = StandardScaler()\n",
    "X_data = sc.fit_transform(X_data)"
   ]
  },
  {
   "cell_type": "markdown",
   "metadata": {},
   "source": [
    "# Split the dataset into train and test"
   ]
  },
  {
   "cell_type": "code",
   "execution_count": 9,
   "metadata": {},
   "outputs": [],
   "source": [
    "from sklearn.model_selection import train_test_split\n",
    "X_train, X_test, y_train, y_test = train_test_split(X_data,y, test_size = 0.2, random_state = 1)"
   ]
  },
  {
   "cell_type": "markdown",
   "metadata": {},
   "source": [
    "# <span style=\"color: red;\">Random Forest Classifier</span>"
   ]
  },
  {
   "cell_type": "code",
   "execution_count": 10,
   "metadata": {},
   "outputs": [],
   "source": [
    "from sklearn.ensemble import RandomForestClassifier\n",
    "clf_rndm= RandomForestClassifier(n_estimators = 1000)\n",
    "clf_rndm.fit(X_train, y_train)\n",
    "rndm_pred = clf_rndm.predict(X_test)"
   ]
  },
  {
   "cell_type": "code",
   "execution_count": 11,
   "metadata": {},
   "outputs": [
    {
     "name": "stdout",
     "output_type": "stream",
     "text": [
      "Confusion matrix : \n",
      " [[ 20   2   6   0]\n",
      " [  6  10   1   0]\n",
      " [ 66   3 422  64]\n",
      " [  0   0  17   3]]\n",
      "Accuracy Score :  0.7338709677419355\n",
      "Classification report : \n",
      "               precision    recall  f1-score   support\n",
      "\n",
      "           1       0.22      0.71      0.33        28\n",
      "           2       0.67      0.59      0.62        17\n",
      "           3       0.95      0.76      0.84       555\n",
      "           4       0.04      0.15      0.07        20\n",
      "\n",
      "    accuracy                           0.73       620\n",
      "   macro avg       0.47      0.55      0.47       620\n",
      "weighted avg       0.88      0.73      0.79       620\n",
      "\n"
     ]
    }
   ],
   "source": [
    "from sklearn import metrics \n",
    "\n",
    "\n",
    "print(\"Confusion matrix : \\n\",metrics.confusion_matrix(rndm_pred,y_test))\n",
    "print(\"Accuracy Score : \",metrics.accuracy_score(rndm_pred,y_test))\n",
    "print(\"Classification report : \\n\",metrics.classification_report(rndm_pred,y_test))"
   ]
  },
  {
   "cell_type": "markdown",
   "metadata": {},
   "source": [
    "# <span style=\"color:red;\">SVM classifier</span>"
   ]
  },
  {
   "cell_type": "code",
   "execution_count": 13,
   "metadata": {},
   "outputs": [],
   "source": [
    "from sklearn.svm import SVC\n",
    "svm_classifier = SVC(kernel='rbf', random_state=0)#radial basis function\n",
    "svm_classifier.fit(X_train,y_train)\n",
    "svm_predict = svm_classifier.predict(X_test)"
   ]
  },
  {
   "cell_type": "code",
   "execution_count": 14,
   "metadata": {},
   "outputs": [
    {
     "name": "stdout",
     "output_type": "stream",
     "text": [
      "Confusion matrix : \n",
      " [[ 20   0   2   0]\n",
      " [  1   5   1   0]\n",
      " [ 71  10 443  65]\n",
      " [  0   0   0   2]]\n",
      "Accuracy Score :  0.7580645161290323\n",
      "Classification report : \n",
      "               precision    recall  f1-score   support\n",
      "\n",
      "           1       0.22      0.91      0.35        22\n",
      "           2       0.33      0.71      0.45         7\n",
      "           3       0.99      0.75      0.86       589\n",
      "           4       0.03      1.00      0.06         2\n",
      "\n",
      "    accuracy                           0.76       620\n",
      "   macro avg       0.39      0.84      0.43       620\n",
      "weighted avg       0.96      0.76      0.83       620\n",
      "\n"
     ]
    }
   ],
   "source": [
    "from sklearn import metrics\n",
    "print(\"Confusion matrix : \\n\",metrics.confusion_matrix(svm_predict,y_test))\n",
    "print(\"Accuracy Score : \",metrics.accuracy_score(svm_predict,y_test))\n",
    "print(\"Classification report : \\n\",metrics.classification_report(svm_predict,y_test))"
   ]
  },
  {
   "cell_type": "markdown",
   "metadata": {},
   "source": [
    "# <span style=\"color:red;\">KNN classifier</span>"
   ]
  },
  {
   "cell_type": "code",
   "execution_count": 15,
   "metadata": {},
   "outputs": [],
   "source": [
    "neighbors = list(range(2,9,1))"
   ]
  },
  {
   "cell_type": "code",
   "execution_count": 16,
   "metadata": {
    "scrolled": true
   },
   "outputs": [
    {
     "name": "stdout",
     "output_type": "stream",
     "text": [
      "For k =  2\n",
      "Confusion matrix : \n",
      " [[ 72   6  69   5]\n",
      " [  7   8  10   0]\n",
      " [ 13   1 362  61]\n",
      " [  0   0   5   1]]\n",
      "Accuracy Score :  0.714516129032258\n",
      "Classification report : \n",
      "               precision    recall  f1-score   support\n",
      "\n",
      "           1       0.78      0.47      0.59       152\n",
      "           2       0.53      0.32      0.40        25\n",
      "           3       0.81      0.83      0.82       437\n",
      "           4       0.01      0.17      0.03         6\n",
      "\n",
      "    accuracy                           0.71       620\n",
      "   macro avg       0.54      0.45      0.46       620\n",
      "weighted avg       0.79      0.71      0.74       620\n",
      "\n",
      "\n",
      "\n",
      "For k =  3\n",
      "Confusion matrix : \n",
      " [[ 59   4  33   3]\n",
      " [  8   9   8   0]\n",
      " [ 25   2 397  58]\n",
      " [  0   0   8   6]]\n",
      "Accuracy Score :  0.7596774193548387\n",
      "Classification report : \n",
      "               precision    recall  f1-score   support\n",
      "\n",
      "           1       0.64      0.60      0.62        99\n",
      "           2       0.60      0.36      0.45        25\n",
      "           3       0.89      0.82      0.86       482\n",
      "           4       0.09      0.43      0.15        14\n",
      "\n",
      "    accuracy                           0.76       620\n",
      "   macro avg       0.56      0.55      0.52       620\n",
      "weighted avg       0.82      0.76      0.79       620\n",
      "\n",
      "\n",
      "\n",
      "For k =  4\n",
      "Confusion matrix : \n",
      " [[ 65   4  48   4]\n",
      " [  8  10   9   0]\n",
      " [ 17   1 388  58]\n",
      " [  2   0   1   5]]\n",
      "Accuracy Score :  0.7548387096774194\n",
      "Classification report : \n",
      "               precision    recall  f1-score   support\n",
      "\n",
      "           1       0.71      0.54      0.61       121\n",
      "           2       0.67      0.37      0.48        27\n",
      "           3       0.87      0.84      0.85       464\n",
      "           4       0.07      0.62      0.13         8\n",
      "\n",
      "    accuracy                           0.75       620\n",
      "   macro avg       0.58      0.59      0.52       620\n",
      "weighted avg       0.82      0.75      0.78       620\n",
      "\n",
      "\n",
      "\n",
      "For k =  5\n",
      "Confusion matrix : \n",
      " [[ 57   3  33   3]\n",
      " [  8  11   7   0]\n",
      " [ 27   1 402  59]\n",
      " [  0   0   4   5]]\n",
      "Accuracy Score :  0.7661290322580645\n",
      "Classification report : \n",
      "               precision    recall  f1-score   support\n",
      "\n",
      "           1       0.62      0.59      0.61        96\n",
      "           2       0.73      0.42      0.54        26\n",
      "           3       0.90      0.82      0.86       489\n",
      "           4       0.07      0.56      0.13         9\n",
      "\n",
      "    accuracy                           0.77       620\n",
      "   macro avg       0.58      0.60      0.53       620\n",
      "weighted avg       0.84      0.77      0.80       620\n",
      "\n",
      "\n",
      "\n",
      "For k =  6\n",
      "Confusion matrix : \n",
      " [[ 61   5  37   6]\n",
      " [  7   8   7   0]\n",
      " [ 24   2 399  60]\n",
      " [  0   0   3   1]]\n",
      "Accuracy Score :  0.7564516129032258\n",
      "Classification report : \n",
      "               precision    recall  f1-score   support\n",
      "\n",
      "           1       0.66      0.56      0.61       109\n",
      "           2       0.53      0.36      0.43        22\n",
      "           3       0.89      0.82      0.86       485\n",
      "           4       0.01      0.25      0.03         4\n",
      "\n",
      "    accuracy                           0.76       620\n",
      "   macro avg       0.53      0.50      0.48       620\n",
      "weighted avg       0.84      0.76      0.79       620\n",
      "\n",
      "\n",
      "\n",
      "For k =  7\n",
      "Confusion matrix : \n",
      " [[ 51   2  29   3]\n",
      " [  9  12   7   0]\n",
      " [ 32   1 407  59]\n",
      " [  0   0   3   5]]\n",
      "Accuracy Score :  0.7661290322580645\n",
      "Classification report : \n",
      "               precision    recall  f1-score   support\n",
      "\n",
      "           1       0.55      0.60      0.58        85\n",
      "           2       0.80      0.43      0.56        28\n",
      "           3       0.91      0.82      0.86       499\n",
      "           4       0.07      0.62      0.13         8\n",
      "\n",
      "    accuracy                           0.77       620\n",
      "   macro avg       0.59      0.62      0.53       620\n",
      "weighted avg       0.85      0.77      0.80       620\n",
      "\n",
      "\n",
      "\n",
      "For k =  8\n",
      "Confusion matrix : \n",
      " [[ 53   3  37   3]\n",
      " [  8  12   6   0]\n",
      " [ 31   0 400  62]\n",
      " [  0   0   3   2]]\n",
      "Accuracy Score :  0.7532258064516129\n",
      "Classification report : \n",
      "               precision    recall  f1-score   support\n",
      "\n",
      "           1       0.58      0.55      0.56        96\n",
      "           2       0.80      0.46      0.59        26\n",
      "           3       0.90      0.81      0.85       493\n",
      "           4       0.03      0.40      0.06         5\n",
      "\n",
      "    accuracy                           0.75       620\n",
      "   macro avg       0.58      0.56      0.51       620\n",
      "weighted avg       0.84      0.75      0.79       620\n",
      "\n",
      "\n",
      "\n"
     ]
    }
   ],
   "source": [
    "from sklearn.neighbors import KNeighborsClassifier\n",
    "\n",
    "for k in neighbors:\n",
    "    print(\"For k = \",k)\n",
    "    knn_classifier = KNeighborsClassifier(n_neighbors = k, p=2)\n",
    "    knn_classifier.fit(X_train, y_train)\n",
    "    knn_pred = knn_classifier.predict(X_test)\n",
    "    print(\"Confusion matrix : \\n\",metrics.confusion_matrix(knn_pred,y_test))\n",
    "    print(\"Accuracy Score : \",metrics.accuracy_score(knn_pred,y_test))\n",
    "    print(\"Classification report : \\n\",metrics.classification_report(knn_pred,y_test))\n",
    "    print(\"\\n\")"
   ]
  },
  {
   "cell_type": "markdown",
   "metadata": {},
   "source": [
    "# <span style=\"color:red;\">CNN</span>"
   ]
  },
  {
   "cell_type": "code",
   "execution_count": 17,
   "metadata": {},
   "outputs": [
    {
     "name": "stderr",
     "output_type": "stream",
     "text": [
      "Using TensorFlow backend.\n"
     ]
    }
   ],
   "source": [
    "import matplotlib.pyplot as plt\n",
    "import keras\n",
    "from tqdm import tqdm\n",
    "import cv2\n",
    "from sklearn.preprocessing import LabelEncoder\n",
    "from keras.utils import to_categorical\n",
    "from keras import Sequential\n",
    "from keras.layers import Dense,Conv2D,Flatten,MaxPooling2D,Dropout"
   ]
  },
  {
   "cell_type": "code",
   "execution_count": 18,
   "metadata": {},
   "outputs": [
    {
     "data": {
      "text/plain": [
       "3.0    2258\n",
       "1.0     393\n",
       "4.0     341\n",
       "2.0     107\n",
       "Name: ClassId, dtype: int64"
      ]
     },
     "execution_count": 18,
     "metadata": {},
     "output_type": "execute_result"
    },
    {
     "data": {
      "image/png": "[encoded data removed]",
      "text/plain": [
       "<Figure size 432x288 with 1 Axes>"
      ]
     },
     "metadata": {
      "needs_background": "light"
     },
     "output_type": "display_data"
    }
   ],
   "source": [
    "dataset.shape\n",
    "dataset[\"ClassId\"].value_counts().plot(kind = 'bar')\n",
    "dataset[\"ClassId\"].value_counts()"
   ]
  },
  {
   "cell_type": "code",
   "execution_count": 19,
   "metadata": {},
   "outputs": [
    {
     "name": "stderr",
     "output_type": "stream",
     "text": [
      "100%|█████████████████████████████████████████████████████████████████████████████| 6014/6014 [00:17<00:00, 346.82it/s]\n"
     ]
    }
   ],
   "source": [
    "# Image argumantatiom\n",
    "l1=[]\n",
    "l2=[] \n",
    "for ImageId,ClassId,EncodedPixels in tqdm(dataset.values):\n",
    "    image=cv2.imread(\"steel defect\\\\images/{}\".format(ImageId),cv2.IMREAD_COLOR)\n",
    "    if image is not None:\n",
    "        image=cv2.resize(image,dsize=(120,120))\n",
    "        l1.append(image)\n",
    "        l2.append(ClassId)\n",
    "\n",
    "    "
   ]
  },
  {
   "cell_type": "code",
   "execution_count": 20,
   "metadata": {},
   "outputs": [
    {
     "data": {
      "text/plain": [
       "<matplotlib.image.AxesImage at 0x21d8e8bba08>"
      ]
     },
     "execution_count": 20,
     "metadata": {},
     "output_type": "execute_result"
    },
    {
     "data": {
      "image/png": "[encoded data removed]",
      "text/plain": [
       "<Figure size 432x288 with 1 Axes>"
      ]
     },
     "metadata": {
      "needs_background": "light"
     },
     "output_type": "display_data"
    }
   ],
   "source": [
    "i = 15\n",
    "plt.imshow(l1[i])"
   ]
  },
  {
   "cell_type": "code",
   "execution_count": 21,
   "metadata": {},
   "outputs": [
    {
     "name": "stdout",
     "output_type": "stream",
     "text": [
      "3099\n"
     ]
    }
   ],
   "source": [
    "print(len(l1))"
   ]
  },
  {
   "cell_type": "code",
   "execution_count": 22,
   "metadata": {},
   "outputs": [],
   "source": [
    "encoder = LabelEncoder()\n",
    "X= np.array(l1)\n",
    "X = X/255\n",
    "y = encoder.fit_transform(l2)\n",
    "y = to_categorical(y)"
   ]
  },
  {
   "cell_type": "code",
   "execution_count": 23,
   "metadata": {},
   "outputs": [],
   "source": [
    "X_train,X_test,y_train,y_test=train_test_split(X,y,test_size=0.2,random_state=1)"
   ]
  },
  {
   "cell_type": "code",
   "execution_count": 24,
   "metadata": {},
   "outputs": [
    {
     "name": "stdout",
     "output_type": "stream",
     "text": [
      "x_train shape: (2479, 120, 120, 3)\n",
      "x_test shape: (620, 120, 120, 3)\n",
      "y_train shape: (2479, 4)\n",
      "y_test shape: (620, 4)\n"
     ]
    }
   ],
   "source": [
    "print(\"x_train shape:\",X_train.shape)\n",
    "print(\"x_test shape:\",X_test.shape)\n",
    "print(\"y_train shape:\",y_train.shape)\n",
    "print(\"y_test shape:\",y_test.shape)"
   ]
  },
  {
   "cell_type": "code",
   "execution_count": 25,
   "metadata": {},
   "outputs": [],
   "source": [
    "model=Sequential()\n",
    "model.add(Conv2D(32,(3,3),input_shape=(120,120,3),activation=\"relu\"))\n",
    "model.add(MaxPooling2D(pool_size=(3,3)))\n",
    "model.add(Conv2D(64,(3,3),activation=\"relu\"))\n",
    "model.add(MaxPooling2D(pool_size=(3,3)))\n",
    "model.add(Conv2D(64,(3,3),activation=\"relu\"))\n",
    "model.add(MaxPooling2D(pool_size=(4,4)))\n",
    "model.add(Flatten())\n",
    "model.add(Dense(128,activation=\"relu\"))\n",
    "model.add(Dropout(0.3))\n",
    "model.add(Dense(128,activation=\"relu\"))\n",
    "model.add(Dropout(0.3))\n",
    "model.add(Dense(256,activation=\"relu\"))\n",
    "model.add(Dense(4,activation=\"softmax\"))\n"
   ]
  },
  {
   "cell_type": "code",
   "execution_count": 26,
   "metadata": {},
   "outputs": [],
   "source": [
    "model.compile(loss=keras.losses.categorical_crossentropy,optimizer=keras.optimizers.Adam(),metrics=[\"accuracy\"])"
   ]
  },
  {
   "cell_type": "code",
   "execution_count": 27,
   "metadata": {},
   "outputs": [
    {
     "name": "stdout",
     "output_type": "stream",
     "text": [
      "Train on 2479 samples, validate on 620 samples\n",
      "Epoch 1/15\n",
      "2479/2479 [==============================] - 12s 5ms/step - loss: 0.9823 - accuracy: 0.6975 - val_loss: 0.8505 - val_accuracy: 0.7194\n",
      "Epoch 2/15\n",
      "2479/2479 [==============================] - 12s 5ms/step - loss: 0.8560 - accuracy: 0.7309 - val_loss: 0.8367 - val_accuracy: 0.7194\n",
      "Epoch 3/15\n",
      "2479/2479 [==============================] - 11s 4ms/step - loss: 0.8180 - accuracy: 0.7309 - val_loss: 0.7873 - val_accuracy: 0.7194\n",
      "Epoch 4/15\n",
      "2479/2479 [==============================] - 11s 4ms/step - loss: 0.7927 - accuracy: 0.7309 - val_loss: 0.7919 - val_accuracy: 0.7194\n",
      "Epoch 5/15\n",
      "2479/2479 [==============================] - 12s 5ms/step - loss: 0.7606 - accuracy: 0.7317 - val_loss: 0.7487 - val_accuracy: 0.7339\n",
      "Epoch 6/15\n",
      "2479/2479 [==============================] - 12s 5ms/step - loss: 0.7412 - accuracy: 0.7410 - val_loss: 0.7127 - val_accuracy: 0.7500\n",
      "Epoch 7/15\n",
      "2479/2479 [==============================] - 11s 4ms/step - loss: 0.7181 - accuracy: 0.7483 - val_loss: 0.7166 - val_accuracy: 0.7484\n",
      "Epoch 8/15\n",
      "2479/2479 [==============================] - 11s 4ms/step - loss: 0.7208 - accuracy: 0.7511 - val_loss: 0.6927 - val_accuracy: 0.7532\n",
      "Epoch 9/15\n",
      "2479/2479 [==============================] - 11s 4ms/step - loss: 0.7009 - accuracy: 0.7555 - val_loss: 0.6696 - val_accuracy: 0.7484\n",
      "Epoch 10/15\n",
      "2479/2479 [==============================] - 11s 4ms/step - loss: 0.6919 - accuracy: 0.7527 - val_loss: 0.6818 - val_accuracy: 0.7548\n",
      "Epoch 11/15\n",
      "2479/2479 [==============================] - 11s 4ms/step - loss: 0.6992 - accuracy: 0.7559 - val_loss: 0.6800 - val_accuracy: 0.7452\n",
      "Epoch 12/15\n",
      "2479/2479 [==============================] - 11s 4ms/step - loss: 0.6932 - accuracy: 0.7535 - val_loss: 0.6802 - val_accuracy: 0.7532\n",
      "Epoch 13/15\n",
      "2479/2479 [==============================] - 11s 4ms/step - loss: 0.6695 - accuracy: 0.7584 - val_loss: 0.6242 - val_accuracy: 0.7613\n",
      "Epoch 14/15\n",
      "2479/2479 [==============================] - 11s 4ms/step - loss: 0.6559 - accuracy: 0.7592 - val_loss: 0.6530 - val_accuracy: 0.7532\n",
      "Epoch 15/15\n",
      "2479/2479 [==============================] - 11s 4ms/step - loss: 0.6565 - accuracy: 0.7551 - val_loss: 0.6252 - val_accuracy: 0.7565\n"
     ]
    }
   ],
   "source": [
    "history = model.fit(X_train,y_train,epochs=15,validation_data=(X_test,y_test),batch_size=128)"
   ]
  },
  {
   "cell_type": "code",
   "execution_count": 28,
   "metadata": {},
   "outputs": [
    {
     "data": {
      "text/plain": [
       "<matplotlib.axes._subplots.AxesSubplot at 0x21740b99588>"
      ]
     },
     "execution_count": 28,
     "metadata": {},
     "output_type": "execute_result"
    },
    {
     "data": {
      "image/png": "[encoded data removed]",
      "text/plain": [
       "<Figure size 432x288 with 1 Axes>"
      ]
     },
     "metadata": {
      "needs_background": "light"
     },
     "output_type": "display_data"
    }
   ],
   "source": [
    "history_df = pd.DataFrame(history.history)\n",
    "history_df.loc[:, ['loss', 'val_loss']].plot(title = 'Loss curve')"
   ]
  },
  {
   "cell_type": "code",
   "execution_count": 29,
   "metadata": {},
   "outputs": [
    {
     "data": {
      "text/plain": [
       "<matplotlib.axes._subplots.AxesSubplot at 0x21740d6a2c8>"
      ]
     },
     "execution_count": 29,
     "metadata": {},
     "output_type": "execute_result"
    },
    {
     "data": {
      "image/png": "[encoded data removed]",
      "text/plain": [
       "<Figure size 432x288 with 1 Axes>"
      ]
     },
     "metadata": {
      "needs_background": "light"
     },
     "output_type": "display_data"
    }
   ],
   "source": [
    "history_df = pd.DataFrame(history.history)\n",
    "history_df.loc[:, ['accuracy', 'val_accuracy']].plot(title = 'Accuracy curve')"
   ]
  },
  {
   "cell_type": "code",
   "execution_count": 30,
   "metadata": {},
   "outputs": [
    {
     "name": "stdout",
     "output_type": "stream",
     "text": [
      "620/620 [==============================] - 1s 1ms/step\n",
      "[+] Accuracy: 75.65%\n"
     ]
    }
   ],
   "source": [
    "result = model.evaluate(X_test, y_test)\n",
    "\n",
    "loss = result[0]\n",
    "accuracy = result[1]\n",
    "print(f\"[+] Accuracy: {accuracy*100:.2f}%\")"
   ]
  }
 ],
 "metadata": {
  "kernelspec": {
   "display_name": "Python 3",
   "language": "python",
   "name": "python3"
  },
  "language_info": {
   "codemirror_mode": {
    "name": "ipython",
    "version": 3
   },
   "file_extension": ".py",
   "mimetype": "text/x-python",
   "name": "python",
   "nbconvert_exporter": "python",
   "pygments_lexer": "ipython3",
   "version": "3.7.6"
  }
 },
 "nbformat": 4,
 "nbformat_minor": 4
}

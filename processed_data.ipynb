{
 "cells": [
  {
   "cell_type": "code",
   "execution_count": 1,
   "metadata": {},
   "outputs": [],
   "source": [
    "from glob import glob\n",
    "import numpy as np\n",
    "import rasterio as rio\n",
    "import os"
   ]
  },
  {
   "cell_type": "markdown",
   "metadata": {},
   "source": [
    "# Importing dataset"
   ]
  },
  {
   "cell_type": "code",
   "execution_count": 2,
   "metadata": {},
   "outputs": [],
   "source": [
    "root = '.\\\\data\\\\processed_data\\\\train'"
   ]
  },
  {
   "cell_type": "code",
   "execution_count": 3,
   "metadata": {},
   "outputs": [],
   "source": [
    "fire = glob(os.path.join(root, \"fire\", '*.tif'))\n",
    "nofire = glob(os.path.join(root, \"nofire\", '*.tif'))"
   ]
  },
  {
   "cell_type": "code",
   "execution_count": 4,
   "metadata": {},
   "outputs": [],
   "source": [
    "X = []\n",
    "y = []\n",
    "for i in fire:\n",
    "    with rio.open(i, 'r') as f:\n",
    "        X.append(f.read(1))\n",
    "    y.append(1)\n",
    "for i in nofire:\n",
    "    with rio.open(i, 'r') as f:\n",
    "        X.append(f.read(1))\n",
    "    y.append(0)"
   ]
  },
  {
   "cell_type": "code",
   "execution_count": 5,
   "metadata": {},
   "outputs": [
    {
     "name": "stdout",
     "output_type": "stream",
     "text": [
      "(32, 32)\n",
      "3528\n"
     ]
    }
   ],
   "source": [
    "print(X[0].shape)\n",
    "print(len(X))"
   ]
  },
  {
   "cell_type": "markdown",
   "metadata": {},
   "source": [
    "# stack data"
   ]
  },
  {
   "cell_type": "code",
   "execution_count": 6,
   "metadata": {},
   "outputs": [
    {
     "name": "stdout",
     "output_type": "stream",
     "text": [
      "(3528, 32, 32)\n"
     ]
    }
   ],
   "source": [
    "X = np.stack(X)\n",
    "y = np.array(y)\n",
    "print(X.shape)"
   ]
  },
  {
   "cell_type": "markdown",
   "metadata": {},
   "source": [
    "# Flatten image array"
   ]
  },
  {
   "cell_type": "code",
   "execution_count": 7,
   "metadata": {},
   "outputs": [
    {
     "name": "stdout",
     "output_type": "stream",
     "text": [
      "3528\n"
     ]
    }
   ],
   "source": [
    "n_samples = X.shape[0]\n",
    "X_data = X.reshape((n_samples, -1))\n",
    "print(n_samples)"
   ]
  },
  {
   "cell_type": "markdown",
   "metadata": {},
   "source": [
    "# Data normalization"
   ]
  },
  {
   "cell_type": "code",
   "execution_count": 8,
   "metadata": {},
   "outputs": [],
   "source": [
    "from sklearn.preprocessing import StandardScaler\n",
    "sc = StandardScaler()\n",
    "X_data = sc.fit_transform(X_data)"
   ]
  },
  {
   "cell_type": "markdown",
   "metadata": {},
   "source": [
    "# Split the dataset into train and test"
   ]
  },
  {
   "cell_type": "code",
   "execution_count": 9,
   "metadata": {},
   "outputs": [],
   "source": [
    "from sklearn.model_selection import train_test_split\n",
    "X_train, X_test, y_train, y_test = train_test_split(X_data,y, test_size = 0.2, random_state = 42)"
   ]
  },
  {
   "cell_type": "markdown",
   "metadata": {},
   "source": [
    "# class name"
   ]
  },
  {
   "cell_type": "code",
   "execution_count": 10,
   "metadata": {},
   "outputs": [],
   "source": [
    "class_names = ['no fire', 'fire']"
   ]
  },
  {
   "cell_type": "markdown",
   "metadata": {},
   "source": [
    "# <span style=\"color:red;\">SVM classifier</span>"
   ]
  },
  {
   "cell_type": "code",
   "execution_count": 11,
   "metadata": {},
   "outputs": [],
   "source": [
    "from sklearn.svm import SVC\n",
    "svm_classifier = SVC(kernel='rbf', random_state=0)\n",
    "svm_classifier.fit(X_train,y_train)\n",
    "svm_predict = svm_classifier.predict(X_test)"
   ]
  },
  {
   "cell_type": "code",
   "execution_count": 12,
   "metadata": {},
   "outputs": [
    {
     "name": "stdout",
     "output_type": "stream",
     "text": [
      "Confusion matrix : \n",
      " [[142 108]\n",
      " [155 301]]\n",
      "Accuracy Score :  0.6274787535410765\n",
      "Classification report : \n",
      "               precision    recall  f1-score   support\n",
      "\n",
      "           0       0.48      0.57      0.52       250\n",
      "           1       0.74      0.66      0.70       456\n",
      "\n",
      "    accuracy                           0.63       706\n",
      "   macro avg       0.61      0.61      0.61       706\n",
      "weighted avg       0.64      0.63      0.63       706\n",
      "\n"
     ]
    },
    {
     "data": {
      "text/plain": [
       "<sklearn.metrics._plot.confusion_matrix.ConfusionMatrixDisplay at 0x2dce3d03248>"
      ]
     },
     "execution_count": 12,
     "metadata": {},
     "output_type": "execute_result"
    },
    {
     "data": {
      "image/png": "[encoded data removed]",
      "text/plain": [
       "<Figure size 432x288 with 2 Axes>"
      ]
     },
     "metadata": {
      "needs_background": "light"
     },
     "output_type": "display_data"
    }
   ],
   "source": [
    "from sklearn import metrics\n",
    "print(\"Confusion matrix : \\n\",metrics.confusion_matrix(svm_predict,y_test))\n",
    "print(\"Accuracy Score : \",metrics.accuracy_score(svm_predict,y_test))\n",
    "print(\"Classification report : \\n\",metrics.classification_report(svm_predict,y_test))\n",
    "metrics.plot_confusion_matrix(svm_classifier, X_test, y_test,display_labels=class_names)"
   ]
  },
  {
   "cell_type": "markdown",
   "metadata": {},
   "source": [
    "# <span style=\"color:red;\">KNN classifier</span>"
   ]
  },
  {
   "cell_type": "code",
   "execution_count": 13,
   "metadata": {},
   "outputs": [],
   "source": [
    "neighbors = list(range(2,9,1))"
   ]
  },
  {
   "cell_type": "code",
   "execution_count": 14,
   "metadata": {},
   "outputs": [
    {
     "name": "stdout",
     "output_type": "stream",
     "text": [
      "For k =  2\n",
      "Confusion matrix : \n",
      " [[200 254]\n",
      " [ 97 155]]\n",
      "Accuracy Score :  0.5028328611898017\n",
      "Classification report : \n",
      "               precision    recall  f1-score   support\n",
      "\n",
      "           0       0.67      0.44      0.53       454\n",
      "           1       0.38      0.62      0.47       252\n",
      "\n",
      "    accuracy                           0.50       706\n",
      "   macro avg       0.53      0.53      0.50       706\n",
      "weighted avg       0.57      0.50      0.51       706\n",
      "\n",
      "\n",
      "\n",
      "For k =  3\n",
      "Confusion matrix : \n",
      " [[136 180]\n",
      " [161 229]]\n",
      "Accuracy Score :  0.5169971671388102\n",
      "Classification report : \n",
      "               precision    recall  f1-score   support\n",
      "\n",
      "           0       0.46      0.43      0.44       316\n",
      "           1       0.56      0.59      0.57       390\n",
      "\n",
      "    accuracy                           0.52       706\n",
      "   macro avg       0.51      0.51      0.51       706\n",
      "weighted avg       0.51      0.52      0.52       706\n",
      "\n",
      "\n",
      "\n",
      "For k =  4\n",
      "Confusion matrix : \n",
      " [[183 230]\n",
      " [114 179]]\n",
      "Accuracy Score :  0.5127478753541076\n",
      "Classification report : \n",
      "               precision    recall  f1-score   support\n",
      "\n",
      "           0       0.62      0.44      0.52       413\n",
      "           1       0.44      0.61      0.51       293\n",
      "\n",
      "    accuracy                           0.51       706\n",
      "   macro avg       0.53      0.53      0.51       706\n",
      "weighted avg       0.54      0.51      0.51       706\n",
      "\n",
      "\n",
      "\n",
      "For k =  5\n",
      "Confusion matrix : \n",
      " [[137 187]\n",
      " [160 222]]\n",
      "Accuracy Score :  0.5084985835694051\n",
      "Classification report : \n",
      "               precision    recall  f1-score   support\n",
      "\n",
      "           0       0.46      0.42      0.44       324\n",
      "           1       0.54      0.58      0.56       382\n",
      "\n",
      "    accuracy                           0.51       706\n",
      "   macro avg       0.50      0.50      0.50       706\n",
      "weighted avg       0.51      0.51      0.51       706\n",
      "\n",
      "\n",
      "\n",
      "For k =  6\n",
      "Confusion matrix : \n",
      " [[177 227]\n",
      " [120 182]]\n",
      "Accuracy Score :  0.5084985835694051\n",
      "Classification report : \n",
      "               precision    recall  f1-score   support\n",
      "\n",
      "           0       0.60      0.44      0.50       404\n",
      "           1       0.44      0.60      0.51       302\n",
      "\n",
      "    accuracy                           0.51       706\n",
      "   macro avg       0.52      0.52      0.51       706\n",
      "weighted avg       0.53      0.51      0.51       706\n",
      "\n",
      "\n",
      "\n",
      "For k =  7\n",
      "Confusion matrix : \n",
      " [[136 188]\n",
      " [161 221]]\n",
      "Accuracy Score :  0.5056657223796034\n",
      "Classification report : \n",
      "               precision    recall  f1-score   support\n",
      "\n",
      "           0       0.46      0.42      0.44       324\n",
      "           1       0.54      0.58      0.56       382\n",
      "\n",
      "    accuracy                           0.51       706\n",
      "   macro avg       0.50      0.50      0.50       706\n",
      "weighted avg       0.50      0.51      0.50       706\n",
      "\n",
      "\n",
      "\n",
      "For k =  8\n",
      "Confusion matrix : \n",
      " [[163 223]\n",
      " [134 186]]\n",
      "Accuracy Score :  0.4943342776203966\n",
      "Classification report : \n",
      "               precision    recall  f1-score   support\n",
      "\n",
      "           0       0.55      0.42      0.48       386\n",
      "           1       0.45      0.58      0.51       320\n",
      "\n",
      "    accuracy                           0.49       706\n",
      "   macro avg       0.50      0.50      0.49       706\n",
      "weighted avg       0.51      0.49      0.49       706\n",
      "\n",
      "\n",
      "\n"
     ]
    },
    {
     "data": {
      "image/png": "[encoded data removed]",
      "text/plain": [
       "<Figure size 432x288 with 2 Axes>"
      ]
     },
     "metadata": {
      "needs_background": "light"
     },
     "output_type": "display_data"
    },
    {
     "data": {
      "image/png": "[encoded data removed]",
      "text/plain": [
       "<Figure size 432x288 with 2 Axes>"
      ]
     },
     "metadata": {
      "needs_background": "light"
     },
     "output_type": "display_data"
    },
    {
     "data": {
      "image/png": "[encoded data removed]",
      "text/plain": [
       "<Figure size 432x288 with 2 Axes>"
      ]
     },
     "metadata": {
      "needs_background": "light"
     },
     "output_type": "display_data"
    },
    {
     "data": {
      "image/png": "[encoded data removed]",
      "text/plain": [
       "<Figure size 432x288 with 2 Axes>"
      ]
     },
     "metadata": {
      "needs_background": "light"
     },
     "output_type": "display_data"
    },
    {
     "data": {
      "image/png": "[encoded data removed]",
      "text/plain": [
       "<Figure size 432x288 with 2 Axes>"
      ]
     },
     "metadata": {
      "needs_background": "light"
     },
     "output_type": "display_data"
    },
    {
     "data": {
      "image/png": "[encoded data removed]",
      "text/plain": [
       "<Figure size 432x288 with 2 Axes>"
      ]
     },
     "metadata": {
      "needs_background": "light"
     },
     "output_type": "display_data"
    },
    {
     "data": {
      "image/png": "[encoded data removed]",
      "text/plain": [
       "<Figure size 432x288 with 2 Axes>"
      ]
     },
     "metadata": {
      "needs_background": "light"
     },
     "output_type": "display_data"
    }
   ],
   "source": [
    "from sklearn.neighbors import KNeighborsClassifier\n",
    "\n",
    "for k in neighbors:\n",
    "    print(\"For k = \",k)\n",
    "    knn_classifier = KNeighborsClassifier(n_neighbors = k, p=2)\n",
    "    knn_classifier.fit(X_train, y_train)\n",
    "    knn_pred = knn_classifier.predict(X_test)\n",
    "    print(\"Confusion matrix : \\n\",metrics.confusion_matrix(knn_pred,y_test))\n",
    "    print(\"Accuracy Score : \",metrics.accuracy_score(knn_pred,y_test))\n",
    "    print(\"Classification report : \\n\",metrics.classification_report(knn_pred,y_test))\n",
    "    metrics.plot_confusion_matrix(knn_classifier, X_test, y_test,display_labels=class_names)\n",
    "    print(\"\\n\")"
   ]
  },
  {
   "cell_type": "markdown",
   "metadata": {},
   "source": [
    "# <span style=\"color:red;\">Random Forest classifier</span>"
   ]
  },
  {
   "cell_type": "code",
   "execution_count": 15,
   "metadata": {},
   "outputs": [],
   "source": [
    "from sklearn.ensemble import RandomForestClassifier\n",
    "rr_classifier = RandomForestClassifier(n_estimators=1000, criterion = 'entropy', random_state = 0 )\n",
    "rr_classifier.fit(X_train,y_train)\n",
    "rr_pred = rr_classifier.predict(X_test)"
   ]
  },
  {
   "cell_type": "code",
   "execution_count": 16,
   "metadata": {},
   "outputs": [
    {
     "name": "stdout",
     "output_type": "stream",
     "text": [
      "Confusion matrix : \n",
      " [[173  85]\n",
      " [124 324]]\n",
      "Accuracy Score :  0.7039660056657224\n",
      "Classification report : \n",
      "               precision    recall  f1-score   support\n",
      "\n",
      "           0       0.58      0.67      0.62       258\n",
      "           1       0.79      0.72      0.76       448\n",
      "\n",
      "    accuracy                           0.70       706\n",
      "   macro avg       0.69      0.70      0.69       706\n",
      "weighted avg       0.72      0.70      0.71       706\n",
      "\n"
     ]
    },
    {
     "data": {
      "text/plain": [
       "<sklearn.metrics._plot.confusion_matrix.ConfusionMatrixDisplay at 0x2dceb315208>"
      ]
     },
     "execution_count": 16,
     "metadata": {},
     "output_type": "execute_result"
    },
    {
     "data": {
      "image/png": "[encoded data removed]",
      "text/plain": [
       "<Figure size 432x288 with 2 Axes>"
      ]
     },
     "metadata": {
      "needs_background": "light"
     },
     "output_type": "display_data"
    }
   ],
   "source": [
    "from sklearn import metrics\n",
    "print(\"Confusion matrix : \\n\",metrics.confusion_matrix(rr_pred,y_test))\n",
    "print(\"Accuracy Score : \",metrics.accuracy_score(rr_pred,y_test))\n",
    "print(\"Classification report : \\n\",metrics.classification_report(rr_pred,y_test))\n",
    "metrics.plot_confusion_matrix(rr_classifier, X_test, y_test,display_labels=class_names)"
   ]
  },
  {
   "cell_type": "markdown",
   "metadata": {},
   "source": [
    "# <span style=\"color:red;\">CNN</span>"
   ]
  },
  {
   "cell_type": "code",
   "execution_count": 18,
   "metadata": {},
   "outputs": [],
   "source": [
    "import matplotlib.pyplot as plt\n",
    "import keras\n",
    "from tqdm import tqdm\n",
    "from sklearn.preprocessing import LabelEncoder\n",
    "from keras.utils import to_categorical\n",
    "from keras import Sequential\n",
    "from keras.layers import Dense,Conv2D,Flatten,MaxPooling2D,Dropout"
   ]
  },
  {
   "cell_type": "code",
   "execution_count": 42,
   "metadata": {},
   "outputs": [],
   "source": [
    "model=Sequential()\n",
    "model.add(Dense(12, input_dim=1024, activation='relu'))\n",
    "model.add(Dense(8, activation='relu'))\n",
    "model.add(Dense(1, activation='softmax'))"
   ]
  },
  {
   "cell_type": "code",
   "execution_count": 43,
   "metadata": {},
   "outputs": [],
   "source": [
    "model.compile(loss='binary_crossentropy', optimizer='adam', metrics=['accuracy'])"
   ]
  },
  {
   "cell_type": "code",
   "execution_count": 44,
   "metadata": {},
   "outputs": [
    {
     "name": "stdout",
     "output_type": "stream",
     "text": [
      "Epoch 1/100\n",
      "2822/2822 [==============================] - 1s 237us/step - loss: 7.0798 - accuracy: 0.5383\n",
      "Epoch 2/100\n",
      "2822/2822 [==============================] - 0s 177us/step - loss: 7.0798 - accuracy: 0.5383\n",
      "Epoch 3/100\n",
      "2822/2822 [==============================] - 1s 181us/step - loss: 7.0798 - accuracy: 0.5383\n",
      "Epoch 4/100\n",
      "2822/2822 [==============================] - 1s 181us/step - loss: 7.0798 - accuracy: 0.5383\n",
      "Epoch 5/100\n",
      "2822/2822 [==============================] - 1s 179us/step - loss: 7.0798 - accuracy: 0.5383\n",
      "Epoch 6/100\n",
      "2822/2822 [==============================] - 0s 176us/step - loss: 7.0798 - accuracy: 0.5383\n",
      "Epoch 7/100\n",
      "2822/2822 [==============================] - 0s 176us/step - loss: 7.0798 - accuracy: 0.5383\n",
      "Epoch 8/100\n",
      "2822/2822 [==============================] - 1s 205us/step - loss: 7.0798 - accuracy: 0.5383\n",
      "Epoch 9/100\n",
      "2822/2822 [==============================] - 1s 188us/step - loss: 7.0798 - accuracy: 0.5383\n",
      "Epoch 10/100\n",
      "2822/2822 [==============================] - 0s 173us/step - loss: 7.0798 - accuracy: 0.5383\n",
      "Epoch 11/100\n",
      "2822/2822 [==============================] - 0s 169us/step - loss: 7.0798 - accuracy: 0.5383\n",
      "Epoch 12/100\n",
      "2822/2822 [==============================] - 1s 180us/step - loss: 7.0798 - accuracy: 0.5383\n",
      "Epoch 13/100\n",
      "2822/2822 [==============================] - 1s 191us/step - loss: 7.0798 - accuracy: 0.5383\n",
      "Epoch 14/100\n",
      "2822/2822 [==============================] - 0s 176us/step - loss: 7.0798 - accuracy: 0.5383\n",
      "Epoch 15/100\n",
      "2822/2822 [==============================] - 0s 163us/step - loss: 7.0798 - accuracy: 0.5383\n",
      "Epoch 16/100\n",
      "2822/2822 [==============================] - 0s 167us/step - loss: 7.0798 - accuracy: 0.5383\n",
      "Epoch 17/100\n",
      "2822/2822 [==============================] - 0s 163us/step - loss: 7.0798 - accuracy: 0.5383\n",
      "Epoch 18/100\n",
      "2822/2822 [==============================] - 0s 154us/step - loss: 7.0798 - accuracy: 0.5383\n",
      "Epoch 19/100\n",
      "2822/2822 [==============================] - 0s 154us/step - loss: 7.0798 - accuracy: 0.5383\n",
      "Epoch 20/100\n",
      "2822/2822 [==============================] - 0s 162us/step - loss: 7.0798 - accuracy: 0.5383\n",
      "Epoch 21/100\n",
      "2822/2822 [==============================] - 0s 159us/step - loss: 7.0798 - accuracy: 0.5383\n",
      "Epoch 22/100\n",
      "2822/2822 [==============================] - 0s 156us/step - loss: 7.0798 - accuracy: 0.5383\n",
      "Epoch 23/100\n",
      "2822/2822 [==============================] - 0s 153us/step - loss: 7.0798 - accuracy: 0.5383\n",
      "Epoch 24/100\n",
      "2822/2822 [==============================] - 0s 156us/step - loss: 7.0798 - accuracy: 0.5383\n",
      "Epoch 25/100\n",
      "2822/2822 [==============================] - 0s 159us/step - loss: 7.0798 - accuracy: 0.5383\n",
      "Epoch 26/100\n",
      "2822/2822 [==============================] - 0s 160us/step - loss: 7.0798 - accuracy: 0.5383\n",
      "Epoch 27/100\n",
      "2822/2822 [==============================] - 0s 162us/step - loss: 7.0798 - accuracy: 0.5383\n",
      "Epoch 28/100\n",
      "2822/2822 [==============================] - 0s 157us/step - loss: 7.0798 - accuracy: 0.5383\n",
      "Epoch 29/100\n",
      "2822/2822 [==============================] - 0s 169us/step - loss: 7.0798 - accuracy: 0.5383\n",
      "Epoch 30/100\n",
      "2822/2822 [==============================] - 0s 163us/step - loss: 7.0798 - accuracy: 0.5383\n",
      "Epoch 31/100\n",
      "2822/2822 [==============================] - 0s 162us/step - loss: 7.0798 - accuracy: 0.5383\n",
      "Epoch 32/100\n",
      "2822/2822 [==============================] - 0s 156us/step - loss: 7.0798 - accuracy: 0.5383\n",
      "Epoch 33/100\n",
      "2822/2822 [==============================] - 0s 153us/step - loss: 7.0798 - accuracy: 0.5383\n",
      "Epoch 34/100\n",
      "2822/2822 [==============================] - 0s 157us/step - loss: 7.0798 - accuracy: 0.5383\n",
      "Epoch 35/100\n",
      "2822/2822 [==============================] - 0s 152us/step - loss: 7.0798 - accuracy: 0.5383\n",
      "Epoch 36/100\n",
      "2822/2822 [==============================] - 0s 159us/step - loss: 7.0798 - accuracy: 0.5383\n",
      "Epoch 37/100\n",
      "2822/2822 [==============================] - 0s 164us/step - loss: 7.0798 - accuracy: 0.5383\n",
      "Epoch 38/100\n",
      "2822/2822 [==============================] - 0s 153us/step - loss: 7.0798 - accuracy: 0.5383\n",
      "Epoch 39/100\n",
      "2822/2822 [==============================] - 0s 157us/step - loss: 7.0798 - accuracy: 0.5383\n",
      "Epoch 40/100\n",
      "2822/2822 [==============================] - 0s 153us/step - loss: 7.0798 - accuracy: 0.5383\n",
      "Epoch 41/100\n",
      "2822/2822 [==============================] - 0s 159us/step - loss: 7.0798 - accuracy: 0.5383\n",
      "Epoch 42/100\n",
      "2822/2822 [==============================] - 0s 159us/step - loss: 7.0798 - accuracy: 0.5383\n",
      "Epoch 43/100\n",
      "2822/2822 [==============================] - 0s 167us/step - loss: 7.0798 - accuracy: 0.5383\n",
      "Epoch 44/100\n",
      "2822/2822 [==============================] - 0s 156us/step - loss: 7.0798 - accuracy: 0.5383\n",
      "Epoch 45/100\n",
      "2822/2822 [==============================] - 0s 157us/step - loss: 7.0798 - accuracy: 0.5383\n",
      "Epoch 46/100\n",
      "2822/2822 [==============================] - 0s 160us/step - loss: 7.0798 - accuracy: 0.5383\n",
      "Epoch 47/100\n",
      "2822/2822 [==============================] - 0s 154us/step - loss: 7.0798 - accuracy: 0.5383\n",
      "Epoch 48/100\n",
      "2822/2822 [==============================] - 0s 164us/step - loss: 7.0798 - accuracy: 0.5383\n",
      "Epoch 49/100\n",
      "2822/2822 [==============================] - 0s 170us/step - loss: 7.0798 - accuracy: 0.5383\n",
      "Epoch 50/100\n",
      "2822/2822 [==============================] - 0s 156us/step - loss: 7.0798 - accuracy: 0.5383\n",
      "Epoch 51/100\n",
      "2822/2822 [==============================] - 0s 154us/step - loss: 7.0798 - accuracy: 0.5383\n",
      "Epoch 52/100\n",
      "2822/2822 [==============================] - 0s 165us/step - loss: 7.0798 - accuracy: 0.5383\n",
      "Epoch 53/100\n",
      "2822/2822 [==============================] - 0s 150us/step - loss: 7.0798 - accuracy: 0.5383\n",
      "Epoch 54/100\n",
      "2822/2822 [==============================] - 0s 153us/step - loss: 7.0798 - accuracy: 0.5383\n",
      "Epoch 55/100\n",
      "2822/2822 [==============================] - 0s 153us/step - loss: 7.0798 - accuracy: 0.5383\n",
      "Epoch 56/100\n",
      "2822/2822 [==============================] - 0s 148us/step - loss: 7.0798 - accuracy: 0.5383\n",
      "Epoch 57/100\n",
      "2822/2822 [==============================] - 0s 155us/step - loss: 7.0798 - accuracy: 0.5383\n",
      "Epoch 58/100\n",
      "2822/2822 [==============================] - 0s 153us/step - loss: 7.0798 - accuracy: 0.5383\n",
      "Epoch 59/100\n",
      "2822/2822 [==============================] - 0s 153us/step - loss: 7.0798 - accuracy: 0.5383\n",
      "Epoch 60/100\n",
      "2822/2822 [==============================] - 0s 150us/step - loss: 7.0798 - accuracy: 0.5383\n",
      "Epoch 61/100\n",
      "2822/2822 [==============================] - 0s 164us/step - loss: 7.0798 - accuracy: 0.5383\n",
      "Epoch 62/100\n",
      "2822/2822 [==============================] - 0s 148us/step - loss: 7.0798 - accuracy: 0.5383\n",
      "Epoch 63/100\n",
      "2822/2822 [==============================] - 0s 155us/step - loss: 7.0798 - accuracy: 0.5383\n",
      "Epoch 64/100\n",
      "2822/2822 [==============================] - 0s 148us/step - loss: 7.0798 - accuracy: 0.5383\n",
      "Epoch 65/100\n",
      "2822/2822 [==============================] - 0s 148us/step - loss: 7.0798 - accuracy: 0.5383\n",
      "Epoch 66/100\n",
      "2822/2822 [==============================] - 0s 155us/step - loss: 7.0798 - accuracy: 0.5383\n",
      "Epoch 67/100\n",
      "2822/2822 [==============================] - 0s 153us/step - loss: 7.0798 - accuracy: 0.5383\n",
      "Epoch 68/100\n",
      "2822/2822 [==============================] - 0s 153us/step - loss: 7.0798 - accuracy: 0.5383\n",
      "Epoch 69/100\n",
      "2822/2822 [==============================] - 0s 150us/step - loss: 7.0798 - accuracy: 0.5383\n",
      "Epoch 70/100\n",
      "2822/2822 [==============================] - 0s 153us/step - loss: 7.0798 - accuracy: 0.5383\n",
      "Epoch 71/100\n",
      "2822/2822 [==============================] - 0s 153us/step - loss: 7.0798 - accuracy: 0.5383\n",
      "Epoch 72/100\n",
      "2822/2822 [==============================] - 0s 153us/step - loss: 7.0798 - accuracy: 0.5383\n",
      "Epoch 73/100\n",
      "2822/2822 [==============================] - 0s 150us/step - loss: 7.0798 - accuracy: 0.5383\n",
      "Epoch 74/100\n",
      "2822/2822 [==============================] - 0s 153us/step - loss: 7.0798 - accuracy: 0.5383\n",
      "Epoch 75/100\n",
      "2822/2822 [==============================] - 0s 153us/step - loss: 7.0798 - accuracy: 0.5383\n",
      "Epoch 76/100\n",
      "2822/2822 [==============================] - 0s 150us/step - loss: 7.0798 - accuracy: 0.5383\n",
      "Epoch 77/100\n",
      "2822/2822 [==============================] - 0s 153us/step - loss: 7.0798 - accuracy: 0.5383\n",
      "Epoch 78/100\n"
     ]
    },
    {
     "name": "stdout",
     "output_type": "stream",
     "text": [
      "2822/2822 [==============================] - 0s 153us/step - loss: 7.0798 - accuracy: 0.5383\n",
      "Epoch 79/100\n",
      "2822/2822 [==============================] - 0s 155us/step - loss: 7.0798 - accuracy: 0.5383\n",
      "Epoch 80/100\n",
      "2822/2822 [==============================] - 0s 153us/step - loss: 7.0798 - accuracy: 0.5383\n",
      "Epoch 81/100\n",
      "2822/2822 [==============================] - 0s 153us/step - loss: 7.0798 - accuracy: 0.5383\n",
      "Epoch 82/100\n",
      "2822/2822 [==============================] - 0s 150us/step - loss: 7.0798 - accuracy: 0.5383\n",
      "Epoch 83/100\n",
      "2822/2822 [==============================] - 0s 153us/step - loss: 7.0798 - accuracy: 0.5383\n",
      "Epoch 84/100\n",
      "2822/2822 [==============================] - 0s 153us/step - loss: 7.0798 - accuracy: 0.5383\n",
      "Epoch 85/100\n",
      "2822/2822 [==============================] - 1s 191us/step - loss: 7.0798 - accuracy: 0.5383\n",
      "Epoch 86/100\n",
      "2822/2822 [==============================] - 0s 153us/step - loss: 7.0798 - accuracy: 0.5383\n",
      "Epoch 87/100\n",
      "2822/2822 [==============================] - 0s 153us/step - loss: 7.0798 - accuracy: 0.5383\n",
      "Epoch 88/100\n",
      "2822/2822 [==============================] - 0s 155us/step - loss: 7.0798 - accuracy: 0.5383\n",
      "Epoch 89/100\n",
      "2822/2822 [==============================] - 0s 159us/step - loss: 7.0798 - accuracy: 0.5383\n",
      "Epoch 90/100\n",
      "2822/2822 [==============================] - 0s 148us/step - loss: 7.0798 - accuracy: 0.5383\n",
      "Epoch 91/100\n",
      "2822/2822 [==============================] - 0s 155us/step - loss: 7.0798 - accuracy: 0.5383\n",
      "Epoch 92/100\n",
      "2822/2822 [==============================] - 0s 148us/step - loss: 7.0798 - accuracy: 0.5383\n",
      "Epoch 93/100\n",
      "2822/2822 [==============================] - 0s 148us/step - loss: 7.0798 - accuracy: 0.5383\n",
      "Epoch 94/100\n",
      "2822/2822 [==============================] - 0s 153us/step - loss: 7.0798 - accuracy: 0.5383\n",
      "Epoch 95/100\n",
      "2822/2822 [==============================] - 0s 153us/step - loss: 7.0798 - accuracy: 0.5383\n",
      "Epoch 96/100\n",
      "2822/2822 [==============================] - 0s 172us/step - loss: 7.0798 - accuracy: 0.5383\n",
      "Epoch 97/100\n",
      "2822/2822 [==============================] - 0s 164us/step - loss: 7.0798 - accuracy: 0.5383\n",
      "Epoch 98/100\n",
      "2822/2822 [==============================] - 0s 172us/step - loss: 7.0798 - accuracy: 0.5383\n",
      "Epoch 99/100\n",
      "2822/2822 [==============================] - 0s 155us/step - loss: 7.0798 - accuracy: 0.5383\n",
      "Epoch 100/100\n",
      "2822/2822 [==============================] - 0s 148us/step - loss: 7.0798 - accuracy: 0.5383\n"
     ]
    },
    {
     "data": {
      "text/plain": [
       "<keras.callbacks.callbacks.History at 0x2dcf50f0408>"
      ]
     },
     "execution_count": 44,
     "metadata": {},
     "output_type": "execute_result"
    }
   ],
   "source": [
    "model.fit(X_train, y_train, epochs=100, batch_size=10)"
   ]
  },
  {
   "cell_type": "code",
   "execution_count": 45,
   "metadata": {},
   "outputs": [
    {
     "name": "stdout",
     "output_type": "stream",
     "text": [
      "<bound method Network.summary of <keras.engine.sequential.Sequential object at 0x000002DCF5157FC8>>\n"
     ]
    }
   ],
   "source": [
    "print(model.summary)"
   ]
  },
  {
   "cell_type": "code",
   "execution_count": 46,
   "metadata": {},
   "outputs": [
    {
     "name": "stdout",
     "output_type": "stream",
     "text": [
      "2822/2822 [==============================] - 0s 36us/step\n",
      "Loss: 7.079805206863869  Accuracy: 0.5382707118988037\n"
     ]
    }
   ],
   "source": [
    "acc = model.evaluate(X_train, y_train)\n",
    "print(\"Loss:\", acc[0], \" Accuracy:\", acc[1])"
   ]
  },
  {
   "cell_type": "code",
   "execution_count": 67,
   "metadata": {},
   "outputs": [],
   "source": [
    "model2=Sequential()\n",
    "model2.add(Dense(128,activation=\"relu\"))\n",
    "model2.add(Dropout(0.3))\n",
    "model2.add(Dense(128,activation=\"relu\"))\n",
    "model2.add(Dropout(0.3))\n",
    "model2.add(Dense(256,activation=\"relu\"))\n",
    "model2.add(Dense(1,activation=\"softmax\"))"
   ]
  },
  {
   "cell_type": "code",
   "execution_count": 68,
   "metadata": {},
   "outputs": [],
   "source": [
    "model2.compile(loss='binary_crossentropy', optimizer='adam', metrics=['accuracy'])"
   ]
  },
  {
   "cell_type": "code",
   "execution_count": 69,
   "metadata": {},
   "outputs": [
    {
     "name": "stdout",
     "output_type": "stream",
     "text": [
      "Epoch 1/100\n",
      "2822/2822 [==============================] - 2s 546us/step - loss: 7.0798 - accuracy: 0.5383\n",
      "Epoch 2/100\n",
      "2822/2822 [==============================] - 1s 435us/step - loss: 7.0798 - accuracy: 0.5383\n",
      "Epoch 3/100\n",
      "2822/2822 [==============================] - 1s 456us/step - loss: 7.0798 - accuracy: 0.5383\n",
      "Epoch 4/100\n",
      "2822/2822 [==============================] - 2s 600us/step - loss: 7.0798 - accuracy: 0.5383\n",
      "Epoch 5/100\n",
      "2822/2822 [==============================] - 2s 566us/step - loss: 7.0798 - accuracy: 0.5383\n",
      "Epoch 6/100\n",
      "2822/2822 [==============================] - 2s 767us/step - loss: 7.0798 - accuracy: 0.5383\n",
      "Epoch 7/100\n",
      "2822/2822 [==============================] - 2s 541us/step - loss: 7.0798 - accuracy: 0.5383\n",
      "Epoch 8/100\n",
      "2822/2822 [==============================] - 2s 535us/step - loss: 7.0798 - accuracy: 0.5383\n",
      "Epoch 9/100\n",
      "2822/2822 [==============================] - 1s 485us/step - loss: 7.0798 - accuracy: 0.5383\n",
      "Epoch 10/100\n",
      "2822/2822 [==============================] - 2s 560us/step - loss: 7.0798 - accuracy: 0.5383\n",
      "Epoch 11/100\n",
      "2822/2822 [==============================] - 1s 482us/step - loss: 7.0798 - accuracy: 0.5383\n",
      "Epoch 12/100\n",
      "2822/2822 [==============================] - 1s 489us/step - loss: 7.0798 - accuracy: 0.5383\n",
      "Epoch 13/100\n",
      "2822/2822 [==============================] - 1s 509us/step - loss: 7.0798 - accuracy: 0.5383\n",
      "Epoch 14/100\n",
      "2822/2822 [==============================] - 1s 483us/step - loss: 7.0798 - accuracy: 0.5383\n",
      "Epoch 15/100\n",
      "2822/2822 [==============================] - 1s 493us/step - loss: 7.0798 - accuracy: 0.5383\n",
      "Epoch 16/100\n",
      "2822/2822 [==============================] - 1s 487us/step - loss: 7.0798 - accuracy: 0.5383\n",
      "Epoch 17/100\n",
      "2822/2822 [==============================] - 1s 486us/step - loss: 7.0798 - accuracy: 0.5383\n",
      "Epoch 18/100\n",
      "2822/2822 [==============================] - 1s 498us/step - loss: 7.0798 - accuracy: 0.5383\n",
      "Epoch 19/100\n",
      "2822/2822 [==============================] - 1s 491us/step - loss: 7.0798 - accuracy: 0.5383\n",
      "Epoch 20/100\n",
      "2822/2822 [==============================] - 1s 494us/step - loss: 7.0798 - accuracy: 0.5383\n",
      "Epoch 21/100\n",
      "2822/2822 [==============================] - 1s 501us/step - loss: 7.0798 - accuracy: 0.5383\n",
      "Epoch 22/100\n",
      "2822/2822 [==============================] - 2s 599us/step - loss: 7.0798 - accuracy: 0.5383\n",
      "Epoch 23/100\n",
      "2822/2822 [==============================] - 1s 500us/step - loss: 7.0798 - accuracy: 0.5383\n",
      "Epoch 24/100\n",
      "2822/2822 [==============================] - 1s 488us/step - loss: 7.0798 - accuracy: 0.5383\n",
      "Epoch 25/100\n",
      "2822/2822 [==============================] - 1s 497us/step - loss: 7.0798 - accuracy: 0.5383\n",
      "Epoch 26/100\n",
      "2822/2822 [==============================] - 2s 537us/step - loss: 7.0798 - accuracy: 0.5383\n",
      "Epoch 27/100\n",
      "2822/2822 [==============================] - 1s 487us/step - loss: 7.0798 - accuracy: 0.5383\n",
      "Epoch 28/100\n",
      "2822/2822 [==============================] - 1s 496us/step - loss: 7.0798 - accuracy: 0.5383\n",
      "Epoch 29/100\n",
      "2822/2822 [==============================] - 1s 494us/step - loss: 7.0798 - accuracy: 0.5383\n",
      "Epoch 30/100\n",
      "2822/2822 [==============================] - 1s 482us/step - loss: 7.0798 - accuracy: 0.5383\n",
      "Epoch 31/100\n",
      "2822/2822 [==============================] - 1s 528us/step - loss: 7.0798 - accuracy: 0.5383\n",
      "Epoch 32/100\n",
      "2822/2822 [==============================] - 1s 495us/step - loss: 7.0798 - accuracy: 0.5383\n",
      "Epoch 33/100\n",
      "2822/2822 [==============================] - 1s 488us/step - loss: 7.0798 - accuracy: 0.5383\n",
      "Epoch 34/100\n",
      "2822/2822 [==============================] - 2s 544us/step - loss: 7.0798 - accuracy: 0.5383\n",
      "Epoch 35/100\n",
      "2822/2822 [==============================] - 1s 504us/step - loss: 7.0798 - accuracy: 0.5383\n",
      "Epoch 36/100\n",
      "2822/2822 [==============================] - 1s 498us/step - loss: 7.0798 - accuracy: 0.5383\n",
      "Epoch 37/100\n",
      "2822/2822 [==============================] - 1s 482us/step - loss: 7.0798 - accuracy: 0.5383\n",
      "Epoch 38/100\n",
      "2822/2822 [==============================] - 1s 499us/step - loss: 7.0798 - accuracy: 0.5383\n",
      "Epoch 39/100\n",
      "2822/2822 [==============================] - 1s 491us/step - loss: 7.0798 - accuracy: 0.5383\n",
      "Epoch 40/100\n",
      "2822/2822 [==============================] - 1s 488us/step - loss: 7.0798 - accuracy: 0.5383\n",
      "Epoch 41/100\n",
      "2822/2822 [==============================] - 1s 489us/step - loss: 7.0798 - accuracy: 0.5383\n",
      "Epoch 42/100\n",
      "2822/2822 [==============================] - 1s 488us/step - loss: 7.0798 - accuracy: 0.5383\n",
      "Epoch 43/100\n",
      "2822/2822 [==============================] - 1s 486us/step - loss: 7.0798 - accuracy: 0.5383\n",
      "Epoch 44/100\n",
      "2822/2822 [==============================] - 1s 499us/step - loss: 7.0798 - accuracy: 0.5383\n",
      "Epoch 45/100\n",
      "2822/2822 [==============================] - 1s 489us/step - loss: 7.0798 - accuracy: 0.5383\n",
      "Epoch 46/100\n",
      "2822/2822 [==============================] - 1s 495us/step - loss: 7.0798 - accuracy: 0.5383\n",
      "Epoch 47/100\n",
      "2822/2822 [==============================] - 1s 491us/step - loss: 7.0798 - accuracy: 0.5383\n",
      "Epoch 48/100\n",
      "2822/2822 [==============================] - 1s 489us/step - loss: 7.0798 - accuracy: 0.5383\n",
      "Epoch 49/100\n",
      "2822/2822 [==============================] - 2s 536us/step - loss: 7.0798 - accuracy: 0.5383\n",
      "Epoch 50/100\n",
      "2822/2822 [==============================] - 1s 487us/step - loss: 7.0798 - accuracy: 0.5383\n",
      "Epoch 51/100\n",
      "2822/2822 [==============================] - 1s 489us/step - loss: 7.0798 - accuracy: 0.5383\n",
      "Epoch 52/100\n",
      "2822/2822 [==============================] - 1s 529us/step - loss: 7.0798 - accuracy: 0.5383\n",
      "Epoch 53/100\n",
      "2822/2822 [==============================] - 1s 482us/step - loss: 7.0798 - accuracy: 0.5383\n",
      "Epoch 54/100\n",
      "2822/2822 [==============================] - 1s 488us/step - loss: 7.0798 - accuracy: 0.5383\n",
      "Epoch 55/100\n",
      "2822/2822 [==============================] - 1s 479us/step - loss: 7.0798 - accuracy: 0.5383\n",
      "Epoch 56/100\n",
      "2822/2822 [==============================] - 1s 478us/step - loss: 7.0798 - accuracy: 0.5383\n",
      "Epoch 57/100\n",
      "2822/2822 [==============================] - 1s 499us/step - loss: 7.0798 - accuracy: 0.5383\n",
      "Epoch 58/100\n",
      "2822/2822 [==============================] - 1s 505us/step - loss: 7.0798 - accuracy: 0.5383\n",
      "Epoch 59/100\n",
      "2822/2822 [==============================] - 1s 501us/step - loss: 7.0798 - accuracy: 0.5383\n",
      "Epoch 60/100\n",
      "2822/2822 [==============================] - 1s 493us/step - loss: 7.0798 - accuracy: 0.5383\n",
      "Epoch 61/100\n",
      "2822/2822 [==============================] - 1s 483us/step - loss: 7.0798 - accuracy: 0.5383\n",
      "Epoch 62/100\n",
      "2822/2822 [==============================] - 1s 521us/step - loss: 7.0798 - accuracy: 0.5383\n",
      "Epoch 63/100\n",
      "2822/2822 [==============================] - 1s 506us/step - loss: 7.0798 - accuracy: 0.5383\n",
      "Epoch 64/100\n",
      "2822/2822 [==============================] - 1s 514us/step - loss: 7.0798 - accuracy: 0.5383\n",
      "Epoch 65/100\n",
      "2822/2822 [==============================] - 1s 505us/step - loss: 7.0798 - accuracy: 0.5383\n",
      "Epoch 66/100\n",
      "2822/2822 [==============================] - 1s 485us/step - loss: 7.0798 - accuracy: 0.5383\n",
      "Epoch 67/100\n",
      "2822/2822 [==============================] - 1s 485us/step - loss: 7.0798 - accuracy: 0.5383\n",
      "Epoch 68/100\n",
      "2822/2822 [==============================] - 1s 488us/step - loss: 7.0798 - accuracy: 0.5383\n",
      "Epoch 69/100\n",
      "2822/2822 [==============================] - 1s 508us/step - loss: 7.0798 - accuracy: 0.5383\n",
      "Epoch 70/100\n",
      "2822/2822 [==============================] - 1s 477us/step - loss: 7.0798 - accuracy: 0.5383\n",
      "Epoch 71/100\n",
      "2822/2822 [==============================] - 1s 529us/step - loss: 7.0798 - accuracy: 0.5383\n",
      "Epoch 72/100\n",
      "2822/2822 [==============================] - 1s 483us/step - loss: 7.0798 - accuracy: 0.5383\n",
      "Epoch 73/100\n",
      "2822/2822 [==============================] - 1s 502us/step - loss: 7.0798 - accuracy: 0.5383\n",
      "Epoch 74/100\n",
      "2822/2822 [==============================] - 1s 487us/step - loss: 7.0798 - accuracy: 0.5383\n",
      "Epoch 75/100\n",
      "2822/2822 [==============================] - 1s 515us/step - loss: 7.0798 - accuracy: 0.5383\n",
      "Epoch 76/100\n",
      "2822/2822 [==============================] - 1s 506us/step - loss: 7.0798 - accuracy: 0.5383\n",
      "Epoch 77/100\n",
      "2822/2822 [==============================] - 1s 490us/step - loss: 7.0798 - accuracy: 0.5383\n",
      "Epoch 78/100\n"
     ]
    },
    {
     "name": "stdout",
     "output_type": "stream",
     "text": [
      "2822/2822 [==============================] - 1s 526us/step - loss: 7.0798 - accuracy: 0.5383\n",
      "Epoch 79/100\n",
      "2822/2822 [==============================] - 1s 487us/step - loss: 7.0798 - accuracy: 0.5383\n",
      "Epoch 80/100\n",
      "2822/2822 [==============================] - 1s 488us/step - loss: 7.0798 - accuracy: 0.5383\n",
      "Epoch 81/100\n",
      "2822/2822 [==============================] - 1s 495us/step - loss: 7.0798 - accuracy: 0.5383\n",
      "Epoch 82/100\n",
      "2822/2822 [==============================] - 1s 496us/step - loss: 7.0798 - accuracy: 0.5383\n",
      "Epoch 83/100\n",
      "2822/2822 [==============================] - 1s 493us/step - loss: 7.0798 - accuracy: 0.5383\n",
      "Epoch 84/100\n",
      "2822/2822 [==============================] - 1s 491us/step - loss: 7.0798 - accuracy: 0.5383\n",
      "Epoch 85/100\n",
      "2822/2822 [==============================] - 1s 490us/step - loss: 7.0798 - accuracy: 0.5383\n",
      "Epoch 86/100\n",
      "2822/2822 [==============================] - 1s 486us/step - loss: 7.0798 - accuracy: 0.5383\n",
      "Epoch 87/100\n",
      "2822/2822 [==============================] - 1s 498us/step - loss: 7.0798 - accuracy: 0.5383\n",
      "Epoch 88/100\n",
      "2822/2822 [==============================] - 1s 494us/step - loss: 7.0798 - accuracy: 0.5383\n",
      "Epoch 89/100\n",
      "2822/2822 [==============================] - 1s 488us/step - loss: 7.0798 - accuracy: 0.5383\n",
      "Epoch 90/100\n",
      "2822/2822 [==============================] - 1s 526us/step - loss: 7.0798 - accuracy: 0.5383\n",
      "Epoch 91/100\n",
      "2822/2822 [==============================] - 1s 491us/step - loss: 7.0798 - accuracy: 0.5383\n",
      "Epoch 92/100\n",
      "2822/2822 [==============================] - 1s 465us/step - loss: 7.0798 - accuracy: 0.5383\n",
      "Epoch 93/100\n",
      "2822/2822 [==============================] - 1s 484us/step - loss: 7.0798 - accuracy: 0.5383\n",
      "Epoch 94/100\n",
      "2822/2822 [==============================] - 1s 485us/step - loss: 7.0798 - accuracy: 0.5383\n",
      "Epoch 95/100\n",
      "2822/2822 [==============================] - 1s 491us/step - loss: 7.0798 - accuracy: 0.5383\n",
      "Epoch 96/100\n",
      "2822/2822 [==============================] - 1s 481us/step - loss: 7.0798 - accuracy: 0.5383\n",
      "Epoch 97/100\n",
      "2822/2822 [==============================] - 1s 477us/step - loss: 7.0798 - accuracy: 0.5383\n",
      "Epoch 98/100\n",
      "2822/2822 [==============================] - 1s 499us/step - loss: 7.0798 - accuracy: 0.5383\n",
      "Epoch 99/100\n",
      "2822/2822 [==============================] - 1s 481us/step - loss: 7.0798 - accuracy: 0.5383\n",
      "Epoch 100/100\n",
      "2822/2822 [==============================] - 1s 487us/step - loss: 7.0798 - accuracy: 0.5383\n"
     ]
    },
    {
     "data": {
      "text/plain": [
       "<keras.callbacks.callbacks.History at 0x2dcf77bccc8>"
      ]
     },
     "execution_count": 69,
     "metadata": {},
     "output_type": "execute_result"
    }
   ],
   "source": [
    "model2.fit(X_train, y_train, epochs=100, batch_size=10)"
   ]
  },
  {
   "cell_type": "code",
   "execution_count": null,
   "metadata": {},
   "outputs": [],
   "source": []
  }
 ],
 "metadata": {
  "kernelspec": {
   "display_name": "Python 3",
   "language": "python",
   "name": "python3"
  },
  "language_info": {
   "codemirror_mode": {
    "name": "ipython",
    "version": 3
   },
   "file_extension": ".py",
   "mimetype": "text/x-python",
   "name": "python",
   "nbconvert_exporter": "python",
   "pygments_lexer": "ipython3",
   "version": "3.7.6"
  }
 },
 "nbformat": 4,
 "nbformat_minor": 4
}
